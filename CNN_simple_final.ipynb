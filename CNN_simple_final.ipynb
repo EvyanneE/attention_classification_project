{
  "nbformat": 4,
  "nbformat_minor": 0,
  "metadata": {
    "colab": {
      "provenance": [],
      "collapsed_sections": [
        "RquEN245xPKA"
      ],
      "authorship_tag": "ABX9TyO4nCrgElVeiuXepH6lFtBR",
      "include_colab_link": true
    },
    "kernelspec": {
      "name": "python3",
      "display_name": "Python 3"
    },
    "language_info": {
      "name": "python"
    },
    "gpuClass": "standard"
  },
  "cells": [
    {
      "cell_type": "markdown",
      "metadata": {
        "id": "view-in-github",
        "colab_type": "text"
      },
      "source": [
        "<a href=\"https://colab.research.google.com/github/NewCode321/ES327/blob/main/CNN_simple_final.ipynb\" target=\"_parent\"><img src=\"https://colab.research.google.com/assets/colab-badge.svg\" alt=\"Open In Colab\"/></a>"
      ]
    },
    {
      "cell_type": "code",
      "execution_count": 101,
      "metadata": {
        "id": "EB8CHLai5ePW",
        "colab": {
          "base_uri": "https://localhost:8080/"
        },
        "outputId": "d932bd49-e63a-450c-f220-52540f4950bf"
      },
      "outputs": [
        {
          "output_type": "stream",
          "name": "stdout",
          "text": [
            "Your runtime has 13.6 gigabytes of available RAM\n",
            "\n",
            "Not using a high-RAM runtime\n"
          ]
        }
      ],
      "source": [
        "from psutil import virtual_memory\n",
        "ram_gb = virtual_memory().total / 1e9\n",
        "print('Your runtime has {:.1f} gigabytes of available RAM\\n'.format(ram_gb))\n",
        "\n",
        "if ram_gb < 20:\n",
        "  print('Not using a high-RAM runtime')\n",
        "else:\n",
        "  print('You are using a high-RAM runtime!')"
      ]
    },
    {
      "cell_type": "markdown",
      "source": [
        "# Install Dependencies and Mount Google Drive"
      ],
      "metadata": {
        "id": "RquEN245xPKA"
      }
    },
    {
      "cell_type": "code",
      "execution_count": 102,
      "metadata": {
        "id": "Fm8LTXKExMJU",
        "colab": {
          "base_uri": "https://localhost:8080/"
        },
        "outputId": "adf355d7-23cb-48d1-a1f3-fa057d2a2f40"
      },
      "outputs": [
        {
          "output_type": "stream",
          "name": "stdout",
          "text": [
            "Looking in indexes: https://pypi.org/simple, https://us-python.pkg.dev/colab-wheels/public/simple/\n",
            "Requirement already satisfied: mediapipe in /usr/local/lib/python3.9/dist-packages (0.9.1.0)\n",
            "Requirement already satisfied: opencv-python in /usr/local/lib/python3.9/dist-packages (4.6.0.66)\n",
            "Requirement already satisfied: flatbuffers>=2.0 in /usr/local/lib/python3.9/dist-packages (from mediapipe) (23.3.3)\n",
            "Requirement already satisfied: numpy in /usr/local/lib/python3.9/dist-packages (from mediapipe) (1.22.4)\n",
            "Requirement already satisfied: protobuf<4,>=3.11 in /usr/local/lib/python3.9/dist-packages (from mediapipe) (3.19.6)\n",
            "Requirement already satisfied: attrs>=19.1.0 in /usr/local/lib/python3.9/dist-packages (from mediapipe) (22.2.0)\n",
            "Requirement already satisfied: opencv-contrib-python in /usr/local/lib/python3.9/dist-packages (from mediapipe) (4.6.0.66)\n",
            "Requirement already satisfied: absl-py in /usr/local/lib/python3.9/dist-packages (from mediapipe) (1.4.0)\n",
            "Requirement already satisfied: matplotlib in /usr/local/lib/python3.9/dist-packages (from mediapipe) (3.7.1)\n",
            "Requirement already satisfied: fonttools>=4.22.0 in /usr/local/lib/python3.9/dist-packages (from matplotlib->mediapipe) (4.39.0)\n",
            "Requirement already satisfied: pillow>=6.2.0 in /usr/local/lib/python3.9/dist-packages (from matplotlib->mediapipe) (8.4.0)\n",
            "Requirement already satisfied: pyparsing>=2.3.1 in /usr/local/lib/python3.9/dist-packages (from matplotlib->mediapipe) (3.0.9)\n",
            "Requirement already satisfied: cycler>=0.10 in /usr/local/lib/python3.9/dist-packages (from matplotlib->mediapipe) (0.11.0)\n",
            "Requirement already satisfied: contourpy>=1.0.1 in /usr/local/lib/python3.9/dist-packages (from matplotlib->mediapipe) (1.0.7)\n",
            "Requirement already satisfied: packaging>=20.0 in /usr/local/lib/python3.9/dist-packages (from matplotlib->mediapipe) (23.0)\n",
            "Requirement already satisfied: python-dateutil>=2.7 in /usr/local/lib/python3.9/dist-packages (from matplotlib->mediapipe) (2.8.2)\n",
            "Requirement already satisfied: importlib-resources>=3.2.0 in /usr/local/lib/python3.9/dist-packages (from matplotlib->mediapipe) (5.12.0)\n",
            "Requirement already satisfied: kiwisolver>=1.0.1 in /usr/local/lib/python3.9/dist-packages (from matplotlib->mediapipe) (1.4.4)\n",
            "Requirement already satisfied: zipp>=3.1.0 in /usr/local/lib/python3.9/dist-packages (from importlib-resources>=3.2.0->matplotlib->mediapipe) (3.15.0)\n",
            "Requirement already satisfied: six>=1.5 in /usr/local/lib/python3.9/dist-packages (from python-dateutil>=2.7->matplotlib->mediapipe) (1.15.0)\n",
            "Looking in indexes: https://pypi.org/simple, https://us-python.pkg.dev/colab-wheels/public/simple/\n",
            "Requirement already satisfied: pims in /usr/local/lib/python3.9/dist-packages (0.6.1)\n",
            "Requirement already satisfied: imageio in /usr/local/lib/python3.9/dist-packages (from pims) (2.9.0)\n",
            "Requirement already satisfied: slicerator>=0.9.8 in /usr/local/lib/python3.9/dist-packages (from pims) (1.1.0)\n",
            "Requirement already satisfied: numpy>=1.19 in /usr/local/lib/python3.9/dist-packages (from pims) (1.22.4)\n",
            "Requirement already satisfied: pillow in /usr/local/lib/python3.9/dist-packages (from imageio->pims) (8.4.0)\n",
            "Looking in indexes: https://pypi.org/simple, https://us-python.pkg.dev/colab-wheels/public/simple/\n",
            "Requirement already satisfied: av in /usr/local/lib/python3.9/dist-packages (10.0.0)\n",
            "Looking in indexes: https://pypi.org/simple, https://us-python.pkg.dev/colab-wheels/public/simple/\n",
            "Requirement already satisfied: scikit-plot in /usr/local/lib/python3.9/dist-packages (0.3.7)\n",
            "Requirement already satisfied: matplotlib>=1.4.0 in /usr/local/lib/python3.9/dist-packages (from scikit-plot) (3.7.1)\n",
            "Requirement already satisfied: scipy>=0.9 in /usr/local/lib/python3.9/dist-packages (from scikit-plot) (1.10.1)\n",
            "Requirement already satisfied: scikit-learn>=0.18 in /usr/local/lib/python3.9/dist-packages (from scikit-plot) (1.2.2)\n",
            "Requirement already satisfied: joblib>=0.10 in /usr/local/lib/python3.9/dist-packages (from scikit-plot) (1.1.1)\n",
            "Requirement already satisfied: python-dateutil>=2.7 in /usr/local/lib/python3.9/dist-packages (from matplotlib>=1.4.0->scikit-plot) (2.8.2)\n",
            "Requirement already satisfied: fonttools>=4.22.0 in /usr/local/lib/python3.9/dist-packages (from matplotlib>=1.4.0->scikit-plot) (4.39.0)\n",
            "Requirement already satisfied: contourpy>=1.0.1 in /usr/local/lib/python3.9/dist-packages (from matplotlib>=1.4.0->scikit-plot) (1.0.7)\n",
            "Requirement already satisfied: numpy>=1.20 in /usr/local/lib/python3.9/dist-packages (from matplotlib>=1.4.0->scikit-plot) (1.22.4)\n",
            "Requirement already satisfied: kiwisolver>=1.0.1 in /usr/local/lib/python3.9/dist-packages (from matplotlib>=1.4.0->scikit-plot) (1.4.4)\n",
            "Requirement already satisfied: importlib-resources>=3.2.0 in /usr/local/lib/python3.9/dist-packages (from matplotlib>=1.4.0->scikit-plot) (5.12.0)\n",
            "Requirement already satisfied: packaging>=20.0 in /usr/local/lib/python3.9/dist-packages (from matplotlib>=1.4.0->scikit-plot) (23.0)\n",
            "Requirement already satisfied: pyparsing>=2.3.1 in /usr/local/lib/python3.9/dist-packages (from matplotlib>=1.4.0->scikit-plot) (3.0.9)\n",
            "Requirement already satisfied: cycler>=0.10 in /usr/local/lib/python3.9/dist-packages (from matplotlib>=1.4.0->scikit-plot) (0.11.0)\n",
            "Requirement already satisfied: pillow>=6.2.0 in /usr/local/lib/python3.9/dist-packages (from matplotlib>=1.4.0->scikit-plot) (8.4.0)\n",
            "Requirement already satisfied: threadpoolctl>=2.0.0 in /usr/local/lib/python3.9/dist-packages (from scikit-learn>=0.18->scikit-plot) (3.1.0)\n",
            "Requirement already satisfied: zipp>=3.1.0 in /usr/local/lib/python3.9/dist-packages (from importlib-resources>=3.2.0->matplotlib>=1.4.0->scikit-plot) (3.15.0)\n",
            "Requirement already satisfied: six>=1.5 in /usr/local/lib/python3.9/dist-packages (from python-dateutil>=2.7->matplotlib>=1.4.0->scikit-plot) (1.15.0)\n"
          ]
        }
      ],
      "source": [
        "# Install MediaPipe\n",
        "!pip install mediapipe opencv-python\n",
        "\n",
        "# Install Pims and AV\n",
        "!pip install pims\n",
        "!pip install av\n",
        "\n",
        "# Install for confusion matrix and roc curves later\n",
        "!pip install scikit-plot"
      ]
    },
    {
      "cell_type": "code",
      "source": [
        "# Import Packages\n",
        "\n",
        "#general\n",
        "import pandas as pd\n",
        "import numpy as np\n",
        "import cv2\n",
        "import mediapipe as mp\n",
        "import matplotlib.pyplot as plt\n",
        "import os\n",
        "import os.path as path # added to make organising directories easier\n",
        "\n",
        "import glob #required for looping through files in directories\n",
        "\n",
        "# MediaPipe Functions\n",
        "mp_drawing = mp.solutions.drawing_utils #function to draw landmarks\n",
        "mp_drawing_styles = mp.solutions.drawing_styles \n",
        "mp_hands = mp.solutions.hands #hand points\n",
        "mp_face_mesh = mp.solutions.face_mesh #face points\n",
        "\n",
        "# for MHIs\n",
        "import scipy\n",
        "from scipy import signal\n",
        "import math\n",
        "import matplotlib.pyplot as plt\n",
        "from matplotlib import cm #colourmaps\n",
        "from mpl_toolkits.mplot3d import Axes3D \n",
        "from skimage import draw as drw\n",
        "from skimage import color, img_as_float, morphology\n",
        "import skimage\n",
        "import pims\n",
        "from IPython.display import Image\n",
        "\n",
        "#for NN Transfer Learning\n",
        "import tensorflow as tf\n",
        "from tensorflow.keras.preprocessing.image import ImageDataGenerator\n",
        "from tensorflow.keras.utils import to_categorical\n",
        "from tensorflow.keras import layers\n",
        "from keras import callbacks\n",
        "import matplotlib.pylab as pltlab\n",
        "import tensorflow_hub as hub\n",
        "\n",
        "# for confusion matrices and roc curves\n",
        "from scikitplot.metrics import plot_confusion_matrix, plot_roc\n",
        "from sklearn.metrics import roc_curve, auc\n",
        "import seaborn as sns"
      ],
      "metadata": {
        "id": "W1iKiIfxxTW_"
      },
      "execution_count": 138,
      "outputs": []
    },
    {
      "cell_type": "code",
      "source": [
        "# mounting google drive to colab to access dataset\n",
        "\n",
        "from google.colab import drive\n",
        "drive.mount('/content/gdrive')"
      ],
      "metadata": {
        "id": "htqLVbSjxyEV",
        "colab": {
          "base_uri": "https://localhost:8080/"
        },
        "outputId": "5b559231-650b-4e51-9010-ed996ff7c0dd"
      },
      "execution_count": 4,
      "outputs": [
        {
          "output_type": "stream",
          "name": "stdout",
          "text": [
            "Mounted at /content/gdrive\n"
          ]
        }
      ]
    },
    {
      "cell_type": "markdown",
      "source": [
        "# CNN trained for 3 Classes"
      ],
      "metadata": {
        "id": "Xs2GKTUmSukb"
      }
    },
    {
      "cell_type": "markdown",
      "source": [
        "## Load Data\n",
        "- this uses mhis_joined\n",
        "\n",
        "Tutorials \n",
        "- https://www.tensorflow.org/tutorials/load_data/images\n",
        "- https://www.tensorflow.org/tutorials/structured_data/imbalanced_data#evaluate_metrics "
      ],
      "metadata": {
        "id": "uZ0JS3cH3uiW"
      }
    },
    {
      "cell_type": "code",
      "source": [
        "# set up main data directory\n",
        "import pathlib\n",
        "\n",
        "archive = '/content/gdrive/MyDrive/mhis_joined' #main directory for the mhi dataset (train and test data together)\n",
        "data_dir = pathlib.Path(archive)\n",
        "data_dir"
      ],
      "metadata": {
        "colab": {
          "base_uri": "https://localhost:8080/"
        },
        "id": "JaP6wePwJLho",
        "outputId": "09ffe025-ea8a-48fc-dce4-a05f5e8c5230"
      },
      "execution_count": 104,
      "outputs": [
        {
          "output_type": "execute_result",
          "data": {
            "text/plain": [
              "PosixPath('/content/gdrive/MyDrive/mhis_joined')"
            ]
          },
          "metadata": {},
          "execution_count": 104
        }
      ]
    },
    {
      "cell_type": "code",
      "source": [
        "# packages to inspect the data\n",
        "import PIL\n",
        "\n",
        "image_count = len(list(data_dir.glob('*/*.png')))\n",
        "print(image_count)# prints the number of images in the dataset"
      ],
      "metadata": {
        "colab": {
          "base_uri": "https://localhost:8080/"
        },
        "id": "n-3Y1BwwLO0k",
        "outputId": "834d185a-e3a1-4610-a7ba-93ec78c54832"
      },
      "execution_count": 6,
      "outputs": [
        {
          "output_type": "stream",
          "name": "stdout",
          "text": [
            "51\n"
          ]
        }
      ]
    },
    {
      "cell_type": "code",
      "source": [
        "thinking = list(data_dir.glob('0/*'))\n",
        "unsure = list(data_dir.glob('1/*'))\n",
        "interested = list(data_dir.glob('2/*'))\n",
        "PIL.Image.open(str(interested[1]))# can change to see different class mhis"
      ],
      "metadata": {
        "colab": {
          "base_uri": "https://localhost:8080/",
          "height": 667
        },
        "id": "LqgFI7dbNXAk",
        "outputId": "be7f8c7d-aa5e-4199-89ac-34ec9d76cec2"
      },
      "execution_count": 7,
      "outputs": [
        {
          "output_type": "execute_result",
          "data": {
            "text/plain": [
              "<PIL.PngImagePlugin.PngImageFile image mode=L size=800x650 at 0x7F4F26BFBCA0>"
            ],
            "image/png": "[encoded data removed]"
          },
          "metadata": {},
          "execution_count": 7
        }
      ]
    },
    {
      "cell_type": "code",
      "source": [
        "IMAGE_SIZE = (299, 299)#set the image size for the model later\n",
        "print(f\"Input size {IMAGE_SIZE}\")\n",
        "\n",
        "BATCH_SIZE = 4 # a smaller batch size causes the model to generalise better\n",
        "\n",
        "data_dir = '/content/gdrive/MyDrive/mhis_joined' #main directory for the mhi dataset (train and test data together)\n",
        "\n",
        "\n",
        "def build_dataset(subset):\n",
        "  return tf.keras.preprocessing.image_dataset_from_directory(\n",
        "      data_dir,\n",
        "      validation_split=.40,#to improve increased validation \n",
        "      subset=subset,\n",
        "      label_mode=\"categorical\",\n",
        "      # Seed when splitting and randomly shuffling data so that the validation set is stable across runs\n",
        "      seed=123,\n",
        "      image_size=IMAGE_SIZE,\n",
        "      batch_size=1)\n",
        "  \n",
        "# build preprocessing model\n",
        "normalization_layer = tf.keras.layers.Rescaling(1. / 255)\n",
        "preprocessing_model = tf.keras.Sequential([normalization_layer])\n",
        "\n",
        "# data augmentation layer\n",
        "do_data_augmentation = True #can make this True/False, prevents overfitting\n",
        "if do_data_augmentation:\n",
        "  preprocessing_model.add(\n",
        "      tf.keras.layers.RandomFlip(mode=\"horizontal\"))\n",
        "  \n",
        "# training dataset\n",
        "train_ds = build_dataset(\"training\")\n",
        "class_names = tuple(train_ds.class_names)\n",
        "train_size = train_ds.cardinality().numpy()\n",
        "train_ds = train_ds.unbatch().batch(BATCH_SIZE)\n",
        "train_ds = train_ds.map(lambda images, labels:\n",
        "                        (preprocessing_model(images), labels))\n",
        "\n",
        "# validation dataset\n",
        "val_ds = build_dataset(\"validation\")\n",
        "valid_size = val_ds.cardinality().numpy()\n",
        "val_ds = val_ds.unbatch().batch(BATCH_SIZE)\n",
        "val_ds = val_ds.map(lambda images, labels:\n",
        "                    (normalization_layer(images), labels))"
      ],
      "metadata": {
        "colab": {
          "base_uri": "https://localhost:8080/"
        },
        "id": "kZiqdGIrcse5",
        "outputId": "be1d7e53-4882-4856-e657-259374d9677a"
      },
      "execution_count": 120,
      "outputs": [
        {
          "output_type": "stream",
          "name": "stdout",
          "text": [
            "Input size (299, 299)\n",
            "Found 51 files belonging to 3 classes.\n",
            "Using 31 files for training.\n",
            "Found 51 files belonging to 3 classes.\n",
            "Using 20 files for validation.\n"
          ]
        }
      ]
    },
    {
      "cell_type": "code",
      "source": [
        "#check the classes included\n",
        "print(class_names)"
      ],
      "metadata": {
        "colab": {
          "base_uri": "https://localhost:8080/"
        },
        "id": "ui3bJkaBULsv",
        "outputId": "e0e927c2-f389-4303-e365-be41739ecd84"
      },
      "execution_count": 121,
      "outputs": [
        {
          "output_type": "stream",
          "name": "stdout",
          "text": [
            "('0', '1', '2')\n"
          ]
        }
      ]
    },
    {
      "cell_type": "markdown",
      "source": [
        "## Build the Model"
      ],
      "metadata": {
        "id": "XNvAYXwP4cgh"
      }
    },
    {
      "cell_type": "code",
      "source": [
        "num_classes = len(class_names)# there are three classes\n",
        "\n",
        "model = tf.keras.Sequential([\n",
        "  tf.keras.layers.Conv2D(32, 3, activation='relu'),\n",
        "  tf.keras.layers.MaxPooling2D(),\n",
        "  tf.keras.layers.Conv2D(32, 3, activation='relu'),\n",
        "  tf.keras.layers.MaxPooling2D(),\n",
        "  tf.keras.layers.Conv2D(32, 3, activation='relu'),\n",
        "  tf.keras.layers.MaxPooling2D(), #comment this out to use without dropout layer\n",
        "  tf.keras.layers.Dropout(0.2), # prevents overfitting\n",
        "  tf.keras.layers.Flatten(),\n",
        "  tf.keras.layers.Dense(128, activation='relu'),\n",
        "  tf.keras.layers.Dense(num_classes)#output layer is tha same size as the number of classes\n",
        "])"
      ],
      "metadata": {
        "id": "xDx1bWtzZTB3"
      },
      "execution_count": 122,
      "outputs": []
    },
    {
      "cell_type": "markdown",
      "source": [
        "## Train the Model"
      ],
      "metadata": {
        "id": "blUQELCa4iQe"
      }
    },
    {
      "cell_type": "code",
      "source": [
        "# compile the model, include the optimiser, loss function and metrics using keras\n",
        "model.compile(\n",
        "  optimizer='adam',\n",
        "  loss=tf.keras.losses.CategoricalCrossentropy(from_logits=True, label_smoothing=0.1),\n",
        "  metrics=[tf.keras.metrics.CategoricalAccuracy(name='accuracy'),\n",
        "           tf.keras.metrics.AUC(name='auc'),\n",
        "           tf.keras.metrics.TruePositives(name='tp'),\n",
        "           tf.keras.metrics.FalsePositives(name='fp'),\n",
        "           tf.keras.metrics.TrueNegatives(name='tn'),\n",
        "           tf.keras.metrics.FalseNegatives(name='fn'), \n",
        "           tf.keras.metrics.Precision(name='precision'),\n",
        "           tf.keras.metrics.Recall(name='recall')\n",
        "           ])"
      ],
      "metadata": {
        "id": "vRD7vakpZhEy"
      },
      "execution_count": 123,
      "outputs": []
    },
    {
      "cell_type": "code",
      "source": [
        "hist = model.fit(\n",
        "  train_ds,\n",
        "  validation_data=val_ds,\n",
        "  epochs=10,\n",
        "  )\n"
      ],
      "metadata": {
        "colab": {
          "base_uri": "https://localhost:8080/"
        },
        "id": "oI8f-QLHZlCR",
        "outputId": "8f0683a7-a677-47d3-cb37-edab1b2b8e90"
      },
      "execution_count": 124,
      "outputs": [
        {
          "output_type": "stream",
          "name": "stdout",
          "text": [
            "Epoch 1/10\n",
            "8/8 [==============================] - 9s 937ms/step - loss: 1.1935 - accuracy: 0.4194 - auc: 0.6082 - tp: 9.0000 - fp: 15.0000 - tn: 47.0000 - fn: 22.0000 - precision: 0.3750 - recall: 0.2903 - val_loss: 1.0529 - val_accuracy: 0.5500 - val_auc: 0.6606 - val_tp: 4.0000 - val_fp: 6.0000 - val_tn: 34.0000 - val_fn: 16.0000 - val_precision: 0.4000 - val_recall: 0.2000\n",
            "Epoch 2/10\n",
            "8/8 [==============================] - 6s 716ms/step - loss: 0.8836 - accuracy: 0.6452 - auc: 0.7851 - tp: 12.0000 - fp: 3.0000 - tn: 59.0000 - fn: 19.0000 - precision: 0.8000 - recall: 0.3871 - val_loss: 1.0830 - val_accuracy: 0.4500 - val_auc: 0.6287 - val_tp: 8.0000 - val_fp: 11.0000 - val_tn: 29.0000 - val_fn: 12.0000 - val_precision: 0.4211 - val_recall: 0.4000\n",
            "Epoch 3/10\n",
            "8/8 [==============================] - 6s 707ms/step - loss: 0.7665 - accuracy: 0.7419 - auc: 0.8195 - tp: 23.0000 - fp: 17.0000 - tn: 45.0000 - fn: 8.0000 - precision: 0.5750 - recall: 0.7419 - val_loss: 1.3294 - val_accuracy: 0.3000 - val_auc: 0.5906 - val_tp: 12.0000 - val_fp: 19.0000 - val_tn: 21.0000 - val_fn: 8.0000 - val_precision: 0.3871 - val_recall: 0.6000\n",
            "Epoch 4/10\n",
            "8/8 [==============================] - 6s 720ms/step - loss: 0.6500 - accuracy: 0.7742 - auc: 0.8522 - tp: 28.0000 - fp: 18.0000 - tn: 44.0000 - fn: 3.0000 - precision: 0.6087 - recall: 0.9032 - val_loss: 1.4060 - val_accuracy: 0.5500 - val_auc: 0.6250 - val_tp: 12.0000 - val_fp: 19.0000 - val_tn: 21.0000 - val_fn: 8.0000 - val_precision: 0.3871 - val_recall: 0.6000\n",
            "Epoch 5/10\n",
            "8/8 [==============================] - 6s 772ms/step - loss: 0.5543 - accuracy: 0.8710 - auc: 0.9170 - tp: 30.0000 - fp: 18.0000 - tn: 44.0000 - fn: 1.0000 - precision: 0.6250 - recall: 0.9677 - val_loss: 1.6290 - val_accuracy: 0.4500 - val_auc: 0.5800 - val_tp: 12.0000 - val_fp: 18.0000 - val_tn: 22.0000 - val_fn: 8.0000 - val_precision: 0.4000 - val_recall: 0.6000\n",
            "Epoch 6/10\n",
            "8/8 [==============================] - 6s 711ms/step - loss: 0.4921 - accuracy: 0.9355 - auc: 0.9324 - tp: 29.0000 - fp: 16.0000 - tn: 46.0000 - fn: 2.0000 - precision: 0.6444 - recall: 0.9355 - val_loss: 1.8596 - val_accuracy: 0.5000 - val_auc: 0.6262 - val_tp: 12.0000 - val_fp: 14.0000 - val_tn: 26.0000 - val_fn: 8.0000 - val_precision: 0.4615 - val_recall: 0.6000\n",
            "Epoch 7/10\n",
            "8/8 [==============================] - 7s 964ms/step - loss: 0.4364 - accuracy: 0.9677 - auc: 0.9662 - tp: 29.0000 - fp: 9.0000 - tn: 53.0000 - fn: 2.0000 - precision: 0.7632 - recall: 0.9355 - val_loss: 1.8253 - val_accuracy: 0.4500 - val_auc: 0.6087 - val_tp: 9.0000 - val_fp: 14.0000 - val_tn: 26.0000 - val_fn: 11.0000 - val_precision: 0.3913 - val_recall: 0.4500\n",
            "Epoch 8/10\n",
            "8/8 [==============================] - 6s 706ms/step - loss: 0.4719 - accuracy: 0.9355 - auc: 0.9527 - tp: 30.0000 - fp: 7.0000 - tn: 55.0000 - fn: 1.0000 - precision: 0.8108 - recall: 0.9677 - val_loss: 1.5634 - val_accuracy: 0.4500 - val_auc: 0.5906 - val_tp: 10.0000 - val_fp: 15.0000 - val_tn: 25.0000 - val_fn: 10.0000 - val_precision: 0.4000 - val_recall: 0.5000\n",
            "Epoch 9/10\n",
            "8/8 [==============================] - 7s 865ms/step - loss: 0.4256 - accuracy: 1.0000 - auc: 0.9376 - tp: 29.0000 - fp: 8.0000 - tn: 54.0000 - fn: 2.0000 - precision: 0.7838 - recall: 0.9355 - val_loss: 1.5161 - val_accuracy: 0.3500 - val_auc: 0.5975 - val_tp: 11.0000 - val_fp: 14.0000 - val_tn: 26.0000 - val_fn: 9.0000 - val_precision: 0.4400 - val_recall: 0.5500\n",
            "Epoch 10/10\n",
            "8/8 [==============================] - 6s 715ms/step - loss: 0.3750 - accuracy: 1.0000 - auc: 0.9709 - tp: 30.0000 - fp: 5.0000 - tn: 57.0000 - fn: 1.0000 - precision: 0.8571 - recall: 0.9677 - val_loss: 1.6879 - val_accuracy: 0.3500 - val_auc: 0.5831 - val_tp: 10.0000 - val_fp: 15.0000 - val_tn: 25.0000 - val_fn: 10.0000 - val_precision: 0.4000 - val_recall: 0.5000\n"
          ]
        }
      ]
    },
    {
      "cell_type": "code",
      "source": [
        "# Create a diagram of the model architecture - uncomment to save to a filepath\n",
        "\n",
        "#need to import the function\n",
        "from keras.utils.vis_utils import plot_model\n",
        "\n",
        "# save figure to a filepath\n",
        "# plot_model(model, to_file='/content/gdrive/MyDrive/figures/cnn_simple3_plot.png', show_shapes=True, show_layer_names=True)"
      ],
      "metadata": {
        "id": "1hNlnSAf-UjO"
      },
      "execution_count": 174,
      "outputs": []
    },
    {
      "cell_type": "code",
      "source": [
        "# check metrics\n",
        "print(hist.history.keys())"
      ],
      "metadata": {
        "colab": {
          "base_uri": "https://localhost:8080/"
        },
        "id": "vMdK3GzIaUS5",
        "outputId": "886a4585-6d6f-4e75-b7e7-c38c6c42d95d"
      },
      "execution_count": 110,
      "outputs": [
        {
          "output_type": "stream",
          "name": "stdout",
          "text": [
            "dict_keys(['loss', 'accuracy', 'auc', 'tp', 'fp', 'tn', 'fn', 'precision', 'recall', 'val_loss', 'val_accuracy', 'val_auc', 'val_tp', 'val_fp', 'val_tn', 'val_fn', 'val_precision', 'val_recall'])\n"
          ]
        }
      ]
    },
    {
      "cell_type": "markdown",
      "source": [
        "## Evaluate the Model"
      ],
      "metadata": {
        "id": "d-30PnFGV-Bv"
      }
    },
    {
      "cell_type": "code",
      "source": [
        "fig = plt.figure()\n",
        "plt.plot(hist.history['accuracy'], color='teal', label='accuracy')\n",
        "plt.plot(hist.history['val_accuracy'], color='orange', label='val_accuracy')\n",
        "fig.suptitle('Accuracy', fontsize=20)\n",
        "plt.legend(loc=\"upper left\")\n",
        "plt.xlabel(\"Epochs\")\n",
        "plt.ylabel(\"Score\")\n",
        "plt.grid(color = 'green', linestyle = '--', linewidth = 0.5)\n",
        "# plt.savefig('/content/gdrive/MyDrive/figures/trainsimple_acc_better.png')#uncomment to save\n",
        "plt.show()"
      ],
      "metadata": {
        "colab": {
          "base_uri": "https://localhost:8080/",
          "height": 308
        },
        "id": "wHoFZaFlf0mt",
        "outputId": "db1e9396-1739-4521-b1a1-d53f859d0832"
      },
      "execution_count": 125,
      "outputs": [
        {
          "output_type": "display_data",
          "data": {
            "text/plain": [
              "<Figure size 432x288 with 1 Axes>"
            ],
            "image/png": "[encoded data removed]"
          },
          "metadata": {
            "needs_background": "light"
          }
        }
      ]
    },
    {
      "cell_type": "code",
      "source": [
        "fig = plt.figure()\n",
        "plt.plot(hist.history['loss'], color='teal', label='loss')\n",
        "plt.plot(hist.history['val_loss'], color='orange', label='val_loss')\n",
        "fig.suptitle('Loss', fontsize=20)\n",
        "plt.legend(loc=\"upper left\")\n",
        "\n",
        "plt.xlabel(\"Epochs\")\n",
        "plt.ylabel(\"Score\")\n",
        "plt.grid(color = 'green', linestyle = '--', linewidth = 0.5)\n",
        "# plt.savefig('/content/gdrive/MyDrive/figures/trainsimple_loss_better.png')#uncomment to save\n",
        "plt.show()\n"
      ],
      "metadata": {
        "colab": {
          "base_uri": "https://localhost:8080/",
          "height": 308
        },
        "id": "FYYyxIKcbTOC",
        "outputId": "2bd2c385-38f0-4a79-f783-a9954c96e4dc"
      },
      "execution_count": 126,
      "outputs": [
        {
          "output_type": "display_data",
          "data": {
            "text/plain": [
              "<Figure size 432x288 with 1 Axes>"
            ],
            "image/png": "[encoded data removed]"
          },
          "metadata": {
            "needs_background": "light"
          }
        }
      ]
    },
    {
      "cell_type": "code",
      "source": [
        "#Using the model from before, create a confusion matrix of the results on the validation dataset\n",
        "\n",
        "# Load the test dataset\n",
        "val_ds = build_dataset(\"validation\")\n",
        "\n",
        "# Get the predicted and true labels\n",
        "y_pred = model.predict(val_ds)\n",
        "y_pred_classes = np.argmax(y_pred, axis=1)\n",
        "y_true = np.concatenate([y for x, y in val_ds], axis=0)\n",
        "y_true_classes = np.argmax(y_true, axis=1)\n"
      ],
      "metadata": {
        "colab": {
          "base_uri": "https://localhost:8080/"
        },
        "id": "WBsVn_qjgOqL",
        "outputId": "0de913fb-28a6-4887-87aa-fa032f15e4d4"
      },
      "execution_count": 127,
      "outputs": [
        {
          "output_type": "stream",
          "name": "stdout",
          "text": [
            "Found 51 files belonging to 3 classes.\n",
            "Using 20 files for validation.\n",
            "20/20 [==============================] - 1s 37ms/step\n"
          ]
        }
      ]
    },
    {
      "cell_type": "code",
      "source": [
        "# plot and save the confusion matrix\n",
        "cm = plot_confusion_matrix(y_true_classes, y_pred_classes)\n",
        "cm\n",
        "# plt.savefig('/content/gdrive/MyDrive/figures/confused.png')#uncomment to save"
      ],
      "metadata": {
        "colab": {
          "base_uri": "https://localhost:8080/",
          "height": 295
        },
        "id": "GqUd8v2woFqh",
        "outputId": "de3caa97-e18f-4b0e-a571-c99c44ed6636"
      },
      "execution_count": 129,
      "outputs": [
        {
          "output_type": "display_data",
          "data": {
            "text/plain": [
              "<Figure size 432x288 with 2 Axes>"
            ],
            "image/png": "[encoded data removed]"
          },
          "metadata": {
            "needs_background": "light"
          }
        }
      ]
    },
    {
      "cell_type": "code",
      "source": [
        "y_pred_classes"
      ],
      "metadata": {
        "colab": {
          "base_uri": "https://localhost:8080/"
        },
        "id": "5rnVoXhaqeWa",
        "outputId": "d534370c-b380-4e10-b967-89b23a55b812"
      },
      "execution_count": 130,
      "outputs": [
        {
          "output_type": "execute_result",
          "data": {
            "text/plain": [
              "array([0, 1, 2, 0, 1, 0, 1, 1, 1, 0, 1, 1, 1, 1, 1, 1, 1, 1, 2, 1])"
            ]
          },
          "metadata": {},
          "execution_count": 130
        }
      ]
    },
    {
      "cell_type": "code",
      "source": [
        "# plot and save the multi class ROC-AUC curve\n",
        "\n",
        "# calculate the fp, tp, and threshold values for each class\n",
        "fp = {}\n",
        "tp = {}\n",
        "thresholds = {}\n",
        "roc_auc = {}\n",
        "n_classes = len(val_ds.class_names)\n",
        "for i in range(n_classes):\n",
        "    fp[i], tp[i], thresholds[i] = roc_curve(y_true_classes == i, y_pred[:, i])\n",
        "    roc_auc[i] = auc(fp[i], tp[i])\n",
        "\n",
        "# plot \n",
        "plt.figure()\n",
        "colors = ['blue', 'red', 'green']\n",
        "for i, color in zip(range(n_classes), colors):\n",
        "    plt.plot(fp[i], tp[i], color=color, label='ROC curve of class {0} (area = {1:0.2f})'.format(i, roc_auc[i]))\n",
        "plt.plot([0, 1], [0, 1], 'k--')\n",
        "plt.xlabel('False Positive Rate')\n",
        "plt.ylabel('True Positive Rate')\n",
        "plt.legend()\n",
        "# plt.savefig('/content/gdrive/MyDrive/figures/rocauc.png')#uncomment to save\n",
        "plt.show()"
      ],
      "metadata": {
        "colab": {
          "base_uri": "https://localhost:8080/",
          "height": 279
        },
        "id": "F4Ad3IDYvp9U",
        "outputId": "5282ebd4-988e-4499-8380-a68631984d8d"
      },
      "execution_count": 153,
      "outputs": [
        {
          "output_type": "display_data",
          "data": {
            "text/plain": [
              "<Figure size 432x288 with 1 Axes>"
            ],
            "image/png": "[encoded data removed]"
          },
          "metadata": {
            "needs_background": "light"
          }
        }
      ]
    },
    {
      "cell_type": "markdown",
      "source": [
        "# CNN trained for Binary Classification"
      ],
      "metadata": {
        "id": "jRmzZfHJTBoP"
      }
    },
    {
      "cell_type": "markdown",
      "source": [
        "## Load Data\n",
        "- this uses mhis_joined\n",
        "\n",
        "- source:https://www.tensorflow.org/tutorials/load_data/images"
      ],
      "metadata": {
        "id": "HCJfs1o-TMW6"
      }
    },
    {
      "cell_type": "code",
      "source": [
        "# set up main data directory\n",
        "import pathlib\n",
        "\n",
        "archive = '/content/gdrive/MyDrive/mhis_joined_binary' # use binary dataset\n",
        "data_dir = pathlib.Path(archive)\n",
        "data_dir"
      ],
      "metadata": {
        "colab": {
          "base_uri": "https://localhost:8080/"
        },
        "outputId": "e8885650-7309-4a28-ee28-c896578c146d",
        "id": "3O0PJWcuTMW6"
      },
      "execution_count": 11,
      "outputs": [
        {
          "output_type": "execute_result",
          "data": {
            "text/plain": [
              "PosixPath('/content/gdrive/MyDrive/mhis_joined_binary')"
            ]
          },
          "metadata": {},
          "execution_count": 11
        }
      ]
    },
    {
      "cell_type": "code",
      "source": [
        "import PIL\n",
        "\n",
        "image_count = len(list(data_dir.glob('*/*.png')))\n",
        "print(image_count)"
      ],
      "metadata": {
        "colab": {
          "base_uri": "https://localhost:8080/"
        },
        "outputId": "551db64c-fd08-49cc-ea6d-0b22a36673bd",
        "id": "HbcxRinFTMW6"
      },
      "execution_count": 12,
      "outputs": [
        {
          "output_type": "stream",
          "name": "stdout",
          "text": [
            "29\n"
          ]
        }
      ]
    },
    {
      "cell_type": "code",
      "source": [
        "# display the first image in the class folder\n",
        "thinking = list(data_dir.glob('0/*'))\n",
        "interested = list(data_dir.glob('1/*'))\n",
        "PIL.Image.open(str(thinking[1]))"
      ],
      "metadata": {
        "colab": {
          "base_uri": "https://localhost:8080/",
          "height": 667
        },
        "outputId": "44b1edf4-6e34-4a4e-a222-b431ac814cfe",
        "id": "mYMYI7hoTMW7"
      },
      "execution_count": 13,
      "outputs": [
        {
          "output_type": "execute_result",
          "data": {
            "text/plain": [
              "<PIL.PngImagePlugin.PngImageFile image mode=L size=800x650 at 0x7F325CA5DA60>"
            ],
            "image/png": "[encoded data removed]"
          },
          "metadata": {},
          "execution_count": 13
        }
      ]
    },
    {
      "cell_type": "code",
      "source": [
        "# tutorial source:\n",
        "\n",
        "IMAGE_SIZE = (299, 299)#set the image size for the model later\n",
        "print(f\"Input size {IMAGE_SIZE}\")\n",
        "\n",
        "BATCH_SIZE = 2 # a smaller batch size causes the model to generalise better\n",
        "\n",
        "data_dir = '/content/gdrive/MyDrive/mhis_joined_binary' #main directory for the mhi dataset (train and test data together)\n",
        "\n",
        "\n",
        "def build_dataset(subset):\n",
        "  return tf.keras.preprocessing.image_dataset_from_directory(\n",
        "      data_dir,\n",
        "      validation_split=.40,#to improve increased validation\n",
        "      subset=subset,\n",
        "      label_mode=\"categorical\",\n",
        "      # Seed when splitting and randomly shuffling data so that the validation set is stable across runs\n",
        "      seed=123,\n",
        "      image_size=IMAGE_SIZE,\n",
        "      batch_size=1)\n",
        "  \n",
        "# build preprocessing model\n",
        "normalization_layer = tf.keras.layers.Rescaling(1. / 255)\n",
        "preprocessing_model = tf.keras.Sequential([normalization_layer])\n",
        "\n",
        "# Data augmentation layer\n",
        "do_data_augmentation = False #can make this True/False\n",
        "if do_data_augmentation:\n",
        "  preprocessing_model.add(\n",
        "      tf.keras.layers.RandomRotation(40))\n",
        "  preprocessing_model.add(\n",
        "      tf.keras.layers.RandomZoom(0.2, 0.2))#image sizes are fixed when reading, and then a random zoom is applied\n",
        "  preprocessing_model.add(\n",
        "      tf.keras.layers.RandomFlip(mode=\"horizontal\"))\n",
        "  \n",
        "#training dataset\n",
        "train_ds = build_dataset(\"training\")\n",
        "class_names = tuple(train_ds.class_names)\n",
        "train_size = train_ds.cardinality().numpy()\n",
        "train_ds = train_ds.unbatch().batch(BATCH_SIZE)\n",
        "train_ds = train_ds.map(lambda images, labels:\n",
        "                        (preprocessing_model(images), labels))\n",
        "\n",
        "#validation dataset\n",
        "val_ds = build_dataset(\"validation\")\n",
        "valid_size = val_ds.cardinality().numpy()\n",
        "val_ds = val_ds.unbatch().batch(BATCH_SIZE)\n",
        "val_ds = val_ds.map(lambda images, labels:\n",
        "                    (normalization_layer(images), labels))"
      ],
      "metadata": {
        "colab": {
          "base_uri": "https://localhost:8080/"
        },
        "outputId": "d27b229c-3eb8-490a-b5ff-751a276a017c",
        "id": "fPNbLSdn7GV8"
      },
      "execution_count": 14,
      "outputs": [
        {
          "output_type": "stream",
          "name": "stdout",
          "text": [
            "Input size (299, 299)\n",
            "Found 29 files belonging to 2 classes.\n",
            "Using 18 files for training.\n",
            "Found 29 files belonging to 2 classes.\n",
            "Using 11 files for validation.\n"
          ]
        }
      ]
    },
    {
      "cell_type": "code",
      "source": [
        "#check the classes included\n",
        "print(class_names)"
      ],
      "metadata": {
        "colab": {
          "base_uri": "https://localhost:8080/"
        },
        "outputId": "5cd72057-2b2d-48bf-df76-7f09801bfa85",
        "id": "rgYWtCmc7zUM"
      },
      "execution_count": 15,
      "outputs": [
        {
          "output_type": "stream",
          "name": "stdout",
          "text": [
            "('0', '1')\n"
          ]
        }
      ]
    },
    {
      "cell_type": "markdown",
      "source": [
        "## Build the Model"
      ],
      "metadata": {
        "id": "kGoQlmnOWz4l"
      }
    },
    {
      "cell_type": "code",
      "source": [
        "num_classes = len(class_names)\n",
        "\n",
        "model = tf.keras.Sequential([\n",
        "  tf.keras.layers.Conv2D(32, 3, activation='relu'),\n",
        "  tf.keras.layers.MaxPooling2D(),\n",
        "  tf.keras.layers.Conv2D(32, 3, activation='relu'),\n",
        "  tf.keras.layers.MaxPooling2D(),\n",
        "  tf.keras.layers.Conv2D(32, 3, activation='relu'),\n",
        "  tf.keras.layers.MaxPooling2D(),\n",
        "  tf.keras.layers.Flatten(),\n",
        "  tf.keras.layers.Dense(128, activation='relu'),\n",
        "  tf.keras.layers.Dense(num_classes)#output layer is tha same size as the number of classes\n",
        "])"
      ],
      "metadata": {
        "id": "c6AudHFSWz4m"
      },
      "execution_count": 16,
      "outputs": []
    },
    {
      "cell_type": "markdown",
      "source": [
        "## Train the Model"
      ],
      "metadata": {
        "id": "F6E1HaZuXmth"
      }
    },
    {
      "cell_type": "code",
      "source": [
        "\n",
        "# compile the model, include the optimiser, loss function and metrics using keras\n",
        "model.compile(\n",
        "  optimizer='adam',\n",
        "  loss=tf.keras.losses.BinaryCrossentropy(from_logits=False),\n",
        "  metrics=[tf.keras.metrics.BinaryAccuracy(name='accuracy'),\n",
        "           tf.keras.metrics.AUC(name='auc'),\n",
        "           tf.keras.metrics.TruePositives(name='tp'),\n",
        "           tf.keras.metrics.FalsePositives(name='fp'),\n",
        "           tf.keras.metrics.TrueNegatives(name='tn'),\n",
        "           tf.keras.metrics.FalseNegatives(name='fn'), \n",
        "           tf.keras.metrics.Precision(name='precision'),\n",
        "           tf.keras.metrics.Recall(name='recall')\n",
        "           ])"
      ],
      "metadata": {
        "id": "oyhWO6YiXmti"
      },
      "execution_count": 23,
      "outputs": []
    },
    {
      "cell_type": "code",
      "source": [
        "hist = model.fit(\n",
        "  train_ds,\n",
        "  validation_data=val_ds,\n",
        "  epochs=10\n",
        ")"
      ],
      "metadata": {
        "colab": {
          "base_uri": "https://localhost:8080/"
        },
        "outputId": "80202300-791a-4693-aeae-b1d9e02a7b30",
        "id": "y0GcSwIoXmti"
      },
      "execution_count": 25,
      "outputs": [
        {
          "output_type": "stream",
          "name": "stdout",
          "text": [
            "Epoch 1/10\n",
            "9/9 [==============================] - 7s 657ms/step - loss: 2.9798 - accuracy: 0.8056 - auc: 0.8056 - tp: 15.0000 - fp: 4.0000 - tn: 14.0000 - fn: 3.0000 - precision: 0.7895 - recall: 0.8333 - val_loss: 2.1434 - val_accuracy: 0.8182 - val_auc: 0.8554 - val_tp: 9.0000 - val_fp: 2.0000 - val_tn: 9.0000 - val_fn: 2.0000 - val_precision: 0.8182 - val_recall: 0.8182\n",
            "Epoch 2/10\n",
            "9/9 [==============================] - 3s 352ms/step - loss: 2.9798 - accuracy: 0.8056 - auc: 0.8056 - tp: 15.0000 - fp: 4.0000 - tn: 14.0000 - fn: 3.0000 - precision: 0.7895 - recall: 0.8333 - val_loss: 2.1489 - val_accuracy: 0.8182 - val_auc: 0.8554 - val_tp: 9.0000 - val_fp: 2.0000 - val_tn: 9.0000 - val_fn: 2.0000 - val_precision: 0.8182 - val_recall: 0.8182\n",
            "Epoch 3/10\n",
            "9/9 [==============================] - 4s 459ms/step - loss: 2.9798 - accuracy: 0.8056 - auc: 0.8056 - tp: 15.0000 - fp: 4.0000 - tn: 14.0000 - fn: 3.0000 - precision: 0.7895 - recall: 0.8333 - val_loss: 2.1518 - val_accuracy: 0.8182 - val_auc: 0.8554 - val_tp: 9.0000 - val_fp: 2.0000 - val_tn: 9.0000 - val_fn: 2.0000 - val_precision: 0.8182 - val_recall: 0.8182\n",
            "Epoch 4/10\n",
            "9/9 [==============================] - 5s 516ms/step - loss: 2.9798 - accuracy: 0.8056 - auc: 0.8056 - tp: 15.0000 - fp: 4.0000 - tn: 14.0000 - fn: 3.0000 - precision: 0.7895 - recall: 0.8333 - val_loss: 2.1530 - val_accuracy: 0.8182 - val_auc: 0.8554 - val_tp: 9.0000 - val_fp: 2.0000 - val_tn: 9.0000 - val_fn: 2.0000 - val_precision: 0.8182 - val_recall: 0.8182\n",
            "Epoch 5/10\n",
            "9/9 [==============================] - 3s 350ms/step - loss: 2.9798 - accuracy: 0.8056 - auc: 0.8056 - tp: 15.0000 - fp: 4.0000 - tn: 14.0000 - fn: 3.0000 - precision: 0.7895 - recall: 0.8333 - val_loss: 2.1535 - val_accuracy: 0.8182 - val_auc: 0.8554 - val_tp: 9.0000 - val_fp: 2.0000 - val_tn: 9.0000 - val_fn: 2.0000 - val_precision: 0.8182 - val_recall: 0.8182\n",
            "Epoch 6/10\n",
            "9/9 [==============================] - 4s 482ms/step - loss: 2.9798 - accuracy: 0.8056 - auc: 0.8056 - tp: 15.0000 - fp: 4.0000 - tn: 14.0000 - fn: 3.0000 - precision: 0.7895 - recall: 0.8333 - val_loss: 2.1536 - val_accuracy: 0.8182 - val_auc: 0.8554 - val_tp: 9.0000 - val_fp: 2.0000 - val_tn: 9.0000 - val_fn: 2.0000 - val_precision: 0.8182 - val_recall: 0.8182\n",
            "Epoch 7/10\n",
            "9/9 [==============================] - 5s 506ms/step - loss: 2.9798 - accuracy: 0.8056 - auc: 0.8056 - tp: 15.0000 - fp: 4.0000 - tn: 14.0000 - fn: 3.0000 - precision: 0.7895 - recall: 0.8333 - val_loss: 2.1537 - val_accuracy: 0.8182 - val_auc: 0.8554 - val_tp: 9.0000 - val_fp: 2.0000 - val_tn: 9.0000 - val_fn: 2.0000 - val_precision: 0.8182 - val_recall: 0.8182\n",
            "Epoch 8/10\n",
            "9/9 [==============================] - 3s 366ms/step - loss: 2.9798 - accuracy: 0.8056 - auc: 0.8056 - tp: 15.0000 - fp: 4.0000 - tn: 14.0000 - fn: 3.0000 - precision: 0.7895 - recall: 0.8333 - val_loss: 2.1537 - val_accuracy: 0.8182 - val_auc: 0.8554 - val_tp: 9.0000 - val_fp: 2.0000 - val_tn: 9.0000 - val_fn: 2.0000 - val_precision: 0.8182 - val_recall: 0.8182\n",
            "Epoch 9/10\n",
            "9/9 [==============================] - 4s 394ms/step - loss: 2.9798 - accuracy: 0.8056 - auc: 0.8056 - tp: 15.0000 - fp: 4.0000 - tn: 14.0000 - fn: 3.0000 - precision: 0.7895 - recall: 0.8333 - val_loss: 2.1538 - val_accuracy: 0.8182 - val_auc: 0.8554 - val_tp: 9.0000 - val_fp: 2.0000 - val_tn: 9.0000 - val_fn: 2.0000 - val_precision: 0.8182 - val_recall: 0.8182\n",
            "Epoch 10/10\n",
            "9/9 [==============================] - 4s 454ms/step - loss: 2.9798 - accuracy: 0.8056 - auc: 0.8056 - tp: 15.0000 - fp: 4.0000 - tn: 14.0000 - fn: 3.0000 - precision: 0.7895 - recall: 0.8333 - val_loss: 2.1538 - val_accuracy: 0.8182 - val_auc: 0.8554 - val_tp: 9.0000 - val_fp: 2.0000 - val_tn: 9.0000 - val_fn: 2.0000 - val_precision: 0.8182 - val_recall: 0.8182\n"
          ]
        }
      ]
    },
    {
      "cell_type": "code",
      "source": [
        "print(hist.history.keys())"
      ],
      "metadata": {
        "colab": {
          "base_uri": "https://localhost:8080/"
        },
        "outputId": "4c3dc96d-6333-460f-f323-3d0fb9613a7c",
        "id": "RZqQHE05Xmti"
      },
      "execution_count": null,
      "outputs": [
        {
          "output_type": "stream",
          "name": "stdout",
          "text": [
            "dict_keys(['loss', 'accuracy', 'val_loss', 'val_accuracy'])\n"
          ]
        }
      ]
    },
    {
      "cell_type": "markdown",
      "source": [
        "## Evaluate the Model"
      ],
      "metadata": {
        "id": "P4ao7pgipeN2"
      }
    },
    {
      "cell_type": "code",
      "source": [
        "fig = plt.figure()\n",
        "plt.plot(hist.history['accuracy'], color='teal', label='accuracy')\n",
        "plt.plot(hist.history['val_accuracy'], color='orange', linestyle=\"--\", label='val_accuracy')\n",
        "fig.suptitle('Accuracy', fontsize=20)\n",
        "plt.legend(loc=\"upper left\")\n",
        "plt.xlabel(\"Epochs\")\n",
        "plt.ylabel(\"Score\")\n",
        "plt.grid(color = 'green', linestyle = '--', linewidth = 0.5)\n",
        "\n",
        "plt.show()"
      ],
      "metadata": {
        "colab": {
          "base_uri": "https://localhost:8080/",
          "height": 308
        },
        "outputId": "807aaf7f-03a6-4be2-b513-326f2707df19",
        "id": "dVzENbU2Xmtj"
      },
      "execution_count": 27,
      "outputs": [
        {
          "output_type": "display_data",
          "data": {
            "text/plain": [
              "<Figure size 432x288 with 1 Axes>"
            ],
            "image/png": "[encoded data removed]"
          },
          "metadata": {
            "needs_background": "light"
          }
        }
      ]
    },
    {
      "cell_type": "code",
      "source": [
        "fig = plt.figure()\n",
        "plt.plot(hist.history['loss'], color='teal', label='loss')\n",
        "plt.plot(hist.history['val_loss'], color='orange', linestyle=\"--\", label='val_loss')\n",
        "fig.suptitle('Loss', fontsize=20)\n",
        "plt.legend(loc=\"upper left\")\n",
        "plt.xlabel(\"Epochs\")\n",
        "plt.ylabel(\"Score\")\n",
        "plt.grid(color = 'green', linestyle = '--', linewidth = 0.5)\n",
        "\n",
        "plt.show()"
      ],
      "metadata": {
        "colab": {
          "base_uri": "https://localhost:8080/",
          "height": 308
        },
        "outputId": "1527f82d-2eea-44eb-b704-6f93e5652166",
        "id": "b983fnypXmtj"
      },
      "execution_count": 26,
      "outputs": [
        {
          "output_type": "display_data",
          "data": {
            "text/plain": [
              "<Figure size 432x288 with 1 Axes>"
            ],
            "image/png": "[encoded data removed]"
          },
          "metadata": {
            "needs_background": "light"
          }
        }
      ]
    }
  ]
}
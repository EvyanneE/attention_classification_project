{
  "nbformat": 4,
  "nbformat_minor": 0,
  "metadata": {
    "colab": {
      "provenance": [],
      "toc_visible": true,
      "authorship_tag": "ABX9TyOtryDe3W5vakDCWwz15ow7",
      "include_colab_link": true
    },
    "kernelspec": {
      "name": "python3",
      "display_name": "Python 3"
    },
    "language_info": {
      "name": "python"
    },
    "accelerator": "GPU",
    "gpuClass": "standard"
  },
  "cells": [
    {
      "cell_type": "markdown",
      "metadata": {
        "id": "view-in-github",
        "colab_type": "text"
      },
      "source": [
        "<a href=\"https://colab.research.google.com/github/NewCode321/ES327/blob/main/CNN_tl_final.ipynb\" target=\"_parent\"><img src=\"https://colab.research.google.com/assets/colab-badge.svg\" alt=\"Open In Colab\"/></a>"
      ]
    },
    {
      "cell_type": "markdown",
      "source": [
        "# Install Dependencies and Mount Google Drive"
      ],
      "metadata": {
        "id": "RquEN245xPKA"
      }
    },
    {
      "cell_type": "code",
      "execution_count": 7,
      "metadata": {
        "id": "Fm8LTXKExMJU",
        "colab": {
          "base_uri": "https://localhost:8080/"
        },
        "outputId": "d5fd00f1-9356-48c2-8369-f7e3aa5f9ff2"
      },
      "outputs": [
        {
          "output_type": "stream",
          "name": "stdout",
          "text": [
            "Looking in indexes: https://pypi.org/simple, https://us-python.pkg.dev/colab-wheels/public/simple/\n",
            "Requirement already satisfied: pims in /usr/local/lib/python3.9/dist-packages (0.6.1)\n",
            "Requirement already satisfied: slicerator>=0.9.8 in /usr/local/lib/python3.9/dist-packages (from pims) (1.1.0)\n",
            "Requirement already satisfied: imageio in /usr/local/lib/python3.9/dist-packages (from pims) (2.9.0)\n",
            "Requirement already satisfied: numpy>=1.19 in /usr/local/lib/python3.9/dist-packages (from pims) (1.22.4)\n",
            "Requirement already satisfied: pillow in /usr/local/lib/python3.9/dist-packages (from imageio->pims) (8.4.0)\n",
            "Looking in indexes: https://pypi.org/simple, https://us-python.pkg.dev/colab-wheels/public/simple/\n",
            "Requirement already satisfied: av in /usr/local/lib/python3.9/dist-packages (10.0.0)\n"
          ]
        }
      ],
      "source": [
        "# Install Pims and AV\n",
        "!pip install pims\n",
        "!pip install av\n"
      ]
    },
    {
      "cell_type": "code",
      "source": [
        "# Import Packages\n",
        "\n",
        "#general\n",
        "import pandas as pd\n",
        "import numpy as np\n",
        "import cv2\n",
        "import mediapipe as mp\n",
        "import matplotlib.pyplot as plt\n",
        "import os\n",
        "import os.path as path # added to make organising directories easier\n",
        "\n",
        "import glob #required for looping through files in directories\n",
        "\n",
        "# MediaPipe Functions\n",
        "mp_drawing = mp.solutions.drawing_utils #function to draw landmarks\n",
        "mp_drawing_styles = mp.solutions.drawing_styles \n",
        "mp_hands = mp.solutions.hands #hand points\n",
        "mp_face_mesh = mp.solutions.face_mesh #face points\n",
        "\n",
        "# for MHIs\n",
        "import scipy\n",
        "from scipy import signal\n",
        "import math\n",
        "import matplotlib.pyplot as plt\n",
        "from matplotlib import cm #colourmaps\n",
        "from mpl_toolkits.mplot3d import Axes3D \n",
        "from skimage import draw as drw\n",
        "from skimage import color, img_as_float, morphology\n",
        "import skimage\n",
        "import pims\n",
        "from IPython.display import Image\n",
        "\n",
        "#for NN Transfer Learning\n",
        "import matplotlib.pylab as pltlab\n",
        "\n",
        "from tensorflow.keras import layers\n",
        "from tensorflow.keras.preprocessing.image import ImageDataGenerator# try using this! \n",
        "from tensorflow.keras.utils import to_categorical\n",
        "from keras import callbacks\n",
        "\n",
        "import itertools\n",
        "import tensorflow as tf\n",
        "import tensorflow_hub as hub\n",
        "import tensorflow as tf\n",
        "print(\"TF version:\", tf.__version__)\n",
        "print(\"Hub version:\", hub.__version__)\n",
        "print(\"GPU is\", \"available\" if tf.config.list_physical_devices('GPU') else \"NOT AVAILABLE\")\n"
      ],
      "metadata": {
        "id": "W1iKiIfxxTW_",
        "colab": {
          "base_uri": "https://localhost:8080/"
        },
        "outputId": "c60e6881-3fd7-4832-f3fa-e91ff33b0d6f"
      },
      "execution_count": 2,
      "outputs": [
        {
          "output_type": "stream",
          "name": "stdout",
          "text": [
            "TF version: 2.11.0\n",
            "Hub version: 0.13.0\n",
            "GPU is available\n"
          ]
        }
      ]
    },
    {
      "cell_type": "code",
      "source": [
        "# mounting google drive to colab to access dataset\n",
        "\n",
        "from google.colab import drive\n",
        "drive.mount('/content/gdrive')"
      ],
      "metadata": {
        "colab": {
          "base_uri": "https://localhost:8080/"
        },
        "id": "htqLVbSjxyEV",
        "outputId": "63f30b4d-5d4e-439f-dc25-8995fabb7121"
      },
      "execution_count": 3,
      "outputs": [
        {
          "output_type": "stream",
          "name": "stdout",
          "text": [
            "Mounted at /content/gdrive\n"
          ]
        }
      ]
    },
    {
      "cell_type": "markdown",
      "source": [
        "# CNN (transfer learning, inception-resnet base) trained for 3 classes\n",
        "\n",
        "- tutorial source: https://www.tensorflow.org/tutorials/load_data/images\n",
        "- tutorial source: https://colab.research.google.com/github/tensorflow/hub/blob/master/examples/colab/tf2_image_retraining.ipynb#scrollTo=w_YKX2Qnfg6x"
      ],
      "metadata": {
        "id": "uZ0JS3cH3uiW"
      }
    },
    {
      "cell_type": "markdown",
      "metadata": {
        "id": "bL54LWCHt5q5"
      },
      "source": [
        "## Install Base Model for transfer learning "
      ]
    },
    {
      "cell_type": "code",
      "source": [
        "#can pick from a selection of models - tried inception_v3 initially\n",
        "\n",
        "model_name = \"inception_resnet_v2\" \n",
        "\n",
        "model_handle_map = {\n",
        "  \"inception_v3\": \"https://tfhub.dev/google/imagenet/inception_v3/classification/5\",\n",
        "  \"inception_resnet_v2\": \"https://tfhub.dev/google/imagenet/inception_resnet_v2/feature_vector/5\",#this one is the final to use\n",
        "}\n",
        "\n",
        "model_image_size_map = {\n",
        "  \"inception_v3\": 299,\n",
        "  \"inception_resnet_v2\": 299,\n",
        "}\n",
        "\n",
        "model_handle = model_handle_map.get(model_name)\n",
        "pixels = model_image_size_map.get(model_name, 224)\n",
        "\n",
        "print(f\"Selected model: {model_name} : {model_handle}\")\n",
        "\n",
        "IMAGE_SIZE = (pixels, pixels)\n",
        "print(f\"Input size {IMAGE_SIZE}\")\n",
        "\n",
        "BATCH_SIZE = 32 # a smaller batch size causes the model to generalise better\n",
        "\n"
      ],
      "metadata": {
        "colab": {
          "base_uri": "https://localhost:8080/"
        },
        "id": "6h7v-g9Z8g-E",
        "outputId": "8ccf0972-2f2c-40b6-d54f-f68dab23d067"
      },
      "execution_count": 8,
      "outputs": [
        {
          "output_type": "stream",
          "name": "stdout",
          "text": [
            "Selected model: inception_resnet_v2 : https://tfhub.dev/google/imagenet/inception_resnet_v2/feature_vector/5\n",
            "Input size (299, 299)\n"
          ]
        }
      ]
    },
    {
      "cell_type": "markdown",
      "metadata": {
        "id": "yTY8qzyYv3vl"
      },
      "source": [
        "## Load Data\n",
        "- uses mhis_joined"
      ]
    },
    {
      "cell_type": "code",
      "execution_count": 9,
      "metadata": {
        "id": "WBtFK1hO8KsO"
      },
      "outputs": [],
      "source": [
        "data_dir = '/content/gdrive/MyDrive/mhis_joined' #main directory"
      ]
    },
    {
      "cell_type": "code",
      "execution_count": 14,
      "metadata": {
        "id": "umB5tswsfTEQ",
        "cellView": "code",
        "colab": {
          "base_uri": "https://localhost:8080/"
        },
        "outputId": "ccbd88b6-d389-41d5-f364-b4b39999dcff"
      },
      "outputs": [
        {
          "output_type": "stream",
          "name": "stdout",
          "text": [
            "Found 51 files belonging to 3 classes.\n",
            "Using 31 files for training.\n",
            "Found 51 files belonging to 3 classes.\n",
            "Using 20 files for validation.\n"
          ]
        }
      ],
      "source": [
        "#source:\n",
        "\n",
        "def build_dataset(subset):\n",
        "  return tf.keras.preprocessing.image_dataset_from_directory(\n",
        "      data_dir,\n",
        "      validation_split=.40,\n",
        "      subset=subset,\n",
        "      label_mode=\"categorical\",\n",
        "      # Seed when splitting and randomly shuffling data so that the validation set is stable across runs\n",
        "      seed=123,\n",
        "      image_size=IMAGE_SIZE,\n",
        "      batch_size=1)\n",
        "  \n",
        "# build preprocessing model\n",
        "normalization_layer = tf.keras.layers.Rescaling(1. / 255)\n",
        "preprocessing_model = tf.keras.Sequential([normalization_layer])\n",
        "\n",
        "do_data_augmentation = False\n",
        "if do_data_augmentation:\n",
        "  preprocessing_model.add(\n",
        "      tf.keras.layers.RandomFlip(mode=\"horizontal\"))\n",
        "  \n",
        "#training dataset\n",
        "train_ds = build_dataset(\"training\")\n",
        "class_names = tuple(train_ds.class_names)\n",
        "train_size = train_ds.cardinality().numpy()\n",
        "train_ds = train_ds.unbatch().batch(BATCH_SIZE)\n",
        "train_ds = train_ds.repeat()\n",
        "train_ds = train_ds.map(lambda images, labels:\n",
        "                        (preprocessing_model(images), labels))\n",
        "\n",
        "#testing dataset\n",
        "val_ds = build_dataset(\"validation\")\n",
        "valid_size = val_ds.cardinality().numpy()\n",
        "val_ds = val_ds.unbatch().batch(BATCH_SIZE)\n",
        "val_ds = val_ds.map(lambda images, labels:\n",
        "                    (normalization_layer(images), labels))"
      ]
    },
    {
      "cell_type": "code",
      "source": [
        "train_size"
      ],
      "metadata": {
        "colab": {
          "base_uri": "https://localhost:8080/"
        },
        "id": "g4EKsaVloi5z",
        "outputId": "968519bf-64bd-43ce-85b3-76fa65b9a453"
      },
      "execution_count": null,
      "outputs": [
        {
          "output_type": "execute_result",
          "data": {
            "text/plain": [
              "41"
            ]
          },
          "metadata": {},
          "execution_count": 68
        }
      ]
    },
    {
      "cell_type": "markdown",
      "source": [
        "## Build the Model"
      ],
      "metadata": {
        "id": "iBU9JfU-_7Op"
      }
    },
    {
      "cell_type": "code",
      "source": [
        "print(\"Building model with\", model_handle)\n",
        "model = tf.keras.Sequential([\n",
        "    # loaded by the TFLiteConverter\n",
        "    tf.keras.layers.InputLayer(input_shape=IMAGE_SIZE + (3,)), # define input shape\n",
        "    hub.KerasLayer(model_handle, trainable=False),\n",
        "    tf.keras.layers.Dropout(rate=0.2),\n",
        "    tf.keras.layers.Dense(len(class_names),\n",
        "                          kernel_regularizer=tf.keras.regularizers.l2(0.0001))\n",
        "])\n",
        "model.build((None,)+IMAGE_SIZE+(3,))\n",
        "model.summary()"
      ],
      "metadata": {
        "colab": {
          "base_uri": "https://localhost:8080/"
        },
        "id": "fP0kjUCH_2-2",
        "outputId": "e58e6a7d-0ae3-4e99-96c3-06d0496d2cd2"
      },
      "execution_count": 15,
      "outputs": [
        {
          "output_type": "stream",
          "name": "stdout",
          "text": [
            "Building model with https://tfhub.dev/google/imagenet/inception_resnet_v2/feature_vector/5\n",
            "Model: \"sequential_7\"\n",
            "_________________________________________________________________\n",
            " Layer (type)                Output Shape              Param #   \n",
            "=================================================================\n",
            " keras_layer_1 (KerasLayer)  (None, 1536)              54336736  \n",
            "                                                                 \n",
            " dropout_1 (Dropout)         (None, 1536)              0         \n",
            "                                                                 \n",
            " dense_1 (Dense)             (None, 3)                 4611      \n",
            "                                                                 \n",
            "=================================================================\n",
            "Total params: 54,341,347\n",
            "Trainable params: 4,611\n",
            "Non-trainable params: 54,336,736\n",
            "_________________________________________________________________\n"
          ]
        }
      ]
    },
    {
      "cell_type": "markdown",
      "source": [
        "## Train the Model"
      ],
      "metadata": {
        "id": "83S4-HY4AIwe"
      }
    },
    {
      "cell_type": "code",
      "source": [
        "model.compile(\n",
        "  optimizer=tf.keras.optimizers.Adam(learning_rate=0.005), \n",
        "  loss=tf.keras.losses.CategoricalCrossentropy(from_logits=True, label_smoothing=0.1),\n",
        "  metrics=['accuracy'])"
      ],
      "metadata": {
        "id": "C1Dip6h1AHqc"
      },
      "execution_count": 16,
      "outputs": []
    },
    {
      "cell_type": "code",
      "source": [
        "steps_per_epoch = train_size // BATCH_SIZE\n",
        "validation_steps = valid_size // BATCH_SIZE\n",
        "hist = model.fit(\n",
        "    train_ds,\n",
        "    epochs=10, steps_per_epoch=steps_per_epoch,\n",
        "    validation_data=val_ds).history\n"
      ],
      "metadata": {
        "colab": {
          "base_uri": "https://localhost:8080/"
        },
        "id": "GwLmR7ajANkz",
        "outputId": "5113100c-8fa4-4bd3-a18e-3d07b623122e"
      },
      "execution_count": 17,
      "outputs": [
        {
          "output_type": "stream",
          "name": "stdout",
          "text": [
            "Epoch 1/10\n",
            "1/1 [==============================] - 39s 39s/step - loss: 1.2966 - accuracy: 0.5000 - val_loss: 1.4621 - val_accuracy: 0.5000\n",
            "Epoch 2/10\n",
            "1/1 [==============================] - 2s 2s/step - loss: 1.7417 - accuracy: 0.4000 - val_loss: 1.3070 - val_accuracy: 0.3500\n",
            "Epoch 3/10\n",
            "1/1 [==============================] - 1s 862ms/step - loss: 1.7470 - accuracy: 0.4375 - val_loss: 1.1287 - val_accuracy: 0.4000\n",
            "Epoch 4/10\n",
            "1/1 [==============================] - 1s 837ms/step - loss: 1.0282 - accuracy: 0.4667 - val_loss: 1.5121 - val_accuracy: 0.3500\n",
            "Epoch 5/10\n",
            "1/1 [==============================] - 1s 880ms/step - loss: 1.1435 - accuracy: 0.5000 - val_loss: 1.6402 - val_accuracy: 0.3500\n",
            "Epoch 6/10\n",
            "1/1 [==============================] - 1s 846ms/step - loss: 1.4504 - accuracy: 0.4667 - val_loss: 1.3142 - val_accuracy: 0.4500\n",
            "Epoch 7/10\n",
            "1/1 [==============================] - 1s 522ms/step - loss: 0.9971 - accuracy: 0.4375 - val_loss: 1.1425 - val_accuracy: 0.4500\n",
            "Epoch 8/10\n",
            "1/1 [==============================] - 1s 805ms/step - loss: 1.0060 - accuracy: 0.4667 - val_loss: 1.1534 - val_accuracy: 0.4000\n",
            "Epoch 9/10\n",
            "1/1 [==============================] - 1s 821ms/step - loss: 0.9598 - accuracy: 0.5000 - val_loss: 1.1561 - val_accuracy: 0.4000\n",
            "Epoch 10/10\n",
            "1/1 [==============================] - 0s 499ms/step - loss: 0.8050 - accuracy: 0.6000 - val_loss: 1.1836 - val_accuracy: 0.4500\n"
          ]
        }
      ]
    },
    {
      "cell_type": "code",
      "source": [
        "# Create a diagram of the model architecture\n",
        "\n",
        "#need to import the function\n",
        "from keras.utils.vis_utils import plot_model\n",
        "\n",
        "# save figure to a filepath\n",
        "# plot_model(model, to_file='/content/gdrive/MyDrive/figures/cnn_tf3_plot.png', show_shapes=True, show_layer_names=True)"
      ],
      "metadata": {
        "id": "1hNlnSAf-UjO",
        "colab": {
          "base_uri": "https://localhost:8080/",
          "height": 422
        },
        "outputId": "0a92961f-7eb1-4a9b-981d-c13b6508eb01"
      },
      "execution_count": null,
      "outputs": [
        {
          "output_type": "execute_result",
          "data": {
            "image/png": "[encoded data removed]",
            "text/plain": [
              "<IPython.core.display.Image object>"
            ]
          },
          "metadata": {},
          "execution_count": 14
        }
      ]
    },
    {
      "cell_type": "code",
      "source": [
        "#check metrics \n",
        "print(hist.keys())"
      ],
      "metadata": {
        "colab": {
          "base_uri": "https://localhost:8080/"
        },
        "id": "WmbtaR2dAhEZ",
        "outputId": "4bf0e369-3466-471c-9365-c9b77e25ba5e"
      },
      "execution_count": null,
      "outputs": [
        {
          "output_type": "stream",
          "name": "stdout",
          "text": [
            "dict_keys(['loss', 'accuracy', 'val_loss', 'val_accuracy'])\n"
          ]
        }
      ]
    },
    {
      "cell_type": "markdown",
      "source": [
        "## Evaluate the Model"
      ],
      "metadata": {
        "id": "P4ao7pgipeN2"
      }
    },
    {
      "cell_type": "code",
      "source": [
        "fig = plt.figure()\n",
        "fig.suptitle('Accuracy', fontsize=20)\n",
        "plt.ylabel(\"Loss (training and validation)\")\n",
        "plt.xlabel(\"Training Steps\")\n",
        "plt.ylim([0,2])\n",
        "plt.plot(hist[\"loss\"])\n",
        "plt.plot(hist[\"val_loss\"])\n",
        "plt.grid(color = 'green', linestyle = '--', linewidth = 0.5)\n",
        "# plt.savefig('/content/gdrive/MyDrive/figures/trainTL_acc.png')#uncomment to save\n",
        "\n",
        "fig = plt.figure()\n",
        "fig.suptitle('Loss', fontsize=20)\n",
        "plt.ylabel(\"Accuracy (training and validation)\")\n",
        "plt.xlabel(\"Training Steps\")\n",
        "plt.ylim([0,1])\n",
        "plt.plot(hist[\"accuracy\"])\n",
        "plt.plot(hist[\"val_accuracy\"])\n",
        "plt.grid(color = 'green', linestyle = '--', linewidth = 0.5)\n",
        "# plt.savefig('/content/gdrive/MyDrive/figures/trainTL_loss.png')#uncomment to save"
      ],
      "metadata": {
        "colab": {
          "base_uri": "https://localhost:8080/",
          "height": 599
        },
        "id": "VRy9Vkx9AQC4",
        "outputId": "24a59002-32e6-452a-88e9-77eac4379c2e"
      },
      "execution_count": 18,
      "outputs": [
        {
          "output_type": "display_data",
          "data": {
            "text/plain": [
              "<Figure size 432x288 with 1 Axes>"
            ],
            "image/png": "[encoded data removed]"
          },
          "metadata": {
            "needs_background": "light"
          }
        },
        {
          "output_type": "display_data",
          "data": {
            "text/plain": [
              "<Figure size 432x288 with 1 Axes>"
            ],
            "image/png": "[encoded data removed]"
          },
          "metadata": {
            "needs_background": "light"
          }
        }
      ]
    },
    {
      "cell_type": "markdown",
      "source": [
        "# CNN (transfer learning, inception-resnet base) trained for 2 classes\n",
        "\n",
        "- source: https://www.tensorflow.org/tutorials/load_data/images\n",
        "- source: https://colab.research.google.com/github/tensorflow/hub/blob/master/examples/colab/tf2_image_retraining.ipynb#scrollTo=w_YKX2Qnfg6x"
      ],
      "metadata": {
        "id": "CA04v6ZjkgxB"
      }
    },
    {
      "cell_type": "markdown",
      "metadata": {
        "id": "hSSkzN8CkgxB"
      },
      "source": [
        "## Install Base Model for transfer learning "
      ]
    },
    {
      "cell_type": "code",
      "source": [
        "#source: \n",
        "\n",
        "#can pick from a selection of models - tried inception_v3 initially\n",
        "\n",
        "model_name = \"inception_resnet_v2\" \n",
        "\n",
        "model_handle_map = {\n",
        "  \"inception_v3\": \"https://tfhub.dev/google/imagenet/inception_v3/classification/5\",\n",
        "  \"inception_resnet_v2\": \"https://tfhub.dev/google/imagenet/inception_resnet_v2/feature_vector/5\",#this one is the final to use\n",
        "}\n",
        "\n",
        "model_image_size_map = {\n",
        "  \"inception_v3\": 299,\n",
        "  \"inception_resnet_v2\": 299,\n",
        "}\n",
        "\n",
        "model_handle = model_handle_map.get(model_name)\n",
        "pixels = model_image_size_map.get(model_name, 224)\n",
        "\n",
        "print(f\"Selected model: {model_name} : {model_handle}\")\n",
        "\n",
        "IMAGE_SIZE = (pixels, pixels)\n",
        "print(f\"Input size {IMAGE_SIZE}\")\n",
        "\n",
        "BATCH_SIZE = 16 # a smaller batch size causes the model to generalise better\n",
        "\n"
      ],
      "metadata": {
        "colab": {
          "base_uri": "https://localhost:8080/"
        },
        "outputId": "b90e23b5-dc39-4dfb-e359-2110cfb9d263",
        "id": "yNkdGPVZkgxB"
      },
      "execution_count": null,
      "outputs": [
        {
          "output_type": "stream",
          "name": "stdout",
          "text": [
            "Selected model: inception_resnet_v2 : https://tfhub.dev/google/imagenet/inception_resnet_v2/feature_vector/5\n",
            "Input size (299, 299)\n"
          ]
        }
      ]
    },
    {
      "cell_type": "markdown",
      "metadata": {
        "id": "J1nUrgvykgxB"
      },
      "source": [
        "## Load Data\n",
        "- uses mhis_joined"
      ]
    },
    {
      "cell_type": "code",
      "execution_count": null,
      "metadata": {
        "id": "nAM0_02RkgxB"
      },
      "outputs": [],
      "source": [
        "data_dir = '/content/gdrive/MyDrive/mhis_joined_binary' #main directory"
      ]
    },
    {
      "cell_type": "code",
      "execution_count": null,
      "metadata": {
        "cellView": "code",
        "colab": {
          "base_uri": "https://localhost:8080/"
        },
        "id": "KMe8cC0KkgxB",
        "outputId": "e1e67398-4d4a-429c-d286-f6cff2ca9f4e"
      },
      "outputs": [
        {
          "output_type": "stream",
          "name": "stdout",
          "text": [
            "Found 29 files belonging to 2 classes.\n",
            "Using 24 files for training.\n"
          ]
        },
        {
          "output_type": "stream",
          "name": "stderr",
          "text": [
            "WARNING:tensorflow:Using a while_loop for converting RngReadAndSkip cause there is no registered converter for this op.\n",
            "WARNING:tensorflow:Using a while_loop for converting Bitcast cause there is no registered converter for this op.\n",
            "WARNING:tensorflow:Using a while_loop for converting Bitcast cause there is no registered converter for this op.\n",
            "WARNING:tensorflow:Using a while_loop for converting StatelessRandomUniformV2 cause there is no registered converter for this op.\n",
            "WARNING:tensorflow:Using a while_loop for converting ImageProjectiveTransformV3 cause there is no registered converter for this op.\n",
            "WARNING:tensorflow:Using a while_loop for converting RngReadAndSkip cause there is no registered converter for this op.\n",
            "WARNING:tensorflow:Using a while_loop for converting Bitcast cause there is no registered converter for this op.\n",
            "WARNING:tensorflow:Using a while_loop for converting Bitcast cause there is no registered converter for this op.\n",
            "WARNING:tensorflow:Using a while_loop for converting StatelessRandomUniformV2 cause there is no registered converter for this op.\n",
            "WARNING:tensorflow:Using a while_loop for converting RngReadAndSkip cause there is no registered converter for this op.\n",
            "WARNING:tensorflow:Using a while_loop for converting Bitcast cause there is no registered converter for this op.\n",
            "WARNING:tensorflow:Using a while_loop for converting Bitcast cause there is no registered converter for this op.\n",
            "WARNING:tensorflow:Using a while_loop for converting StatelessRandomUniformV2 cause there is no registered converter for this op.\n",
            "WARNING:tensorflow:Using a while_loop for converting RngReadAndSkip cause there is no registered converter for this op.\n",
            "WARNING:tensorflow:Using a while_loop for converting Bitcast cause there is no registered converter for this op.\n",
            "WARNING:tensorflow:Using a while_loop for converting Bitcast cause there is no registered converter for this op.\n",
            "WARNING:tensorflow:Using a while_loop for converting StatelessRandomUniformV2 cause there is no registered converter for this op.\n",
            "WARNING:tensorflow:Using a while_loop for converting RngReadAndSkip cause there is no registered converter for this op.\n",
            "WARNING:tensorflow:Using a while_loop for converting Bitcast cause there is no registered converter for this op.\n",
            "WARNING:tensorflow:Using a while_loop for converting Bitcast cause there is no registered converter for this op.\n",
            "WARNING:tensorflow:Using a while_loop for converting StatelessRandomUniformV2 cause there is no registered converter for this op.\n",
            "WARNING:tensorflow:Using a while_loop for converting RngReadAndSkip cause there is no registered converter for this op.\n",
            "WARNING:tensorflow:Using a while_loop for converting Bitcast cause there is no registered converter for this op.\n",
            "WARNING:tensorflow:Using a while_loop for converting Bitcast cause there is no registered converter for this op.\n",
            "WARNING:tensorflow:Using a while_loop for converting StatelessRandomUniformV2 cause there is no registered converter for this op.\n",
            "WARNING:tensorflow:Using a while_loop for converting RngReadAndSkip cause there is no registered converter for this op.\n",
            "WARNING:tensorflow:Using a while_loop for converting Bitcast cause there is no registered converter for this op.\n",
            "WARNING:tensorflow:Using a while_loop for converting Bitcast cause there is no registered converter for this op.\n",
            "WARNING:tensorflow:Using a while_loop for converting StatelessRandomUniformV2 cause there is no registered converter for this op.\n",
            "WARNING:tensorflow:Using a while_loop for converting ImageProjectiveTransformV3 cause there is no registered converter for this op.\n",
            "WARNING:tensorflow:Using a while_loop for converting RngReadAndSkip cause there is no registered converter for this op.\n",
            "WARNING:tensorflow:Using a while_loop for converting Bitcast cause there is no registered converter for this op.\n",
            "WARNING:tensorflow:Using a while_loop for converting Bitcast cause there is no registered converter for this op.\n",
            "WARNING:tensorflow:Using a while_loop for converting StatelessRandomUniformV2 cause there is no registered converter for this op.\n",
            "WARNING:tensorflow:Using a while_loop for converting ImageProjectiveTransformV3 cause there is no registered converter for this op.\n",
            "WARNING:tensorflow:Using a while_loop for converting RngReadAndSkip cause there is no registered converter for this op.\n",
            "WARNING:tensorflow:Using a while_loop for converting Bitcast cause there is no registered converter for this op.\n",
            "WARNING:tensorflow:Using a while_loop for converting Bitcast cause there is no registered converter for this op.\n",
            "WARNING:tensorflow:Using a while_loop for converting StatelessRandomUniformV2 cause there is no registered converter for this op.\n",
            "WARNING:tensorflow:Using a while_loop for converting RngReadAndSkip cause there is no registered converter for this op.\n",
            "WARNING:tensorflow:Using a while_loop for converting Bitcast cause there is no registered converter for this op.\n",
            "WARNING:tensorflow:Using a while_loop for converting Bitcast cause there is no registered converter for this op.\n",
            "WARNING:tensorflow:Using a while_loop for converting StatelessRandomUniformV2 cause there is no registered converter for this op.\n",
            "WARNING:tensorflow:Using a while_loop for converting RngReadAndSkip cause there is no registered converter for this op.\n",
            "WARNING:tensorflow:Using a while_loop for converting Bitcast cause there is no registered converter for this op.\n",
            "WARNING:tensorflow:Using a while_loop for converting Bitcast cause there is no registered converter for this op.\n",
            "WARNING:tensorflow:Using a while_loop for converting StatelessRandomUniformV2 cause there is no registered converter for this op.\n",
            "WARNING:tensorflow:Using a while_loop for converting RngReadAndSkip cause there is no registered converter for this op.\n",
            "WARNING:tensorflow:Using a while_loop for converting Bitcast cause there is no registered converter for this op.\n",
            "WARNING:tensorflow:Using a while_loop for converting Bitcast cause there is no registered converter for this op.\n",
            "WARNING:tensorflow:Using a while_loop for converting StatelessRandomUniformV2 cause there is no registered converter for this op.\n",
            "WARNING:tensorflow:Using a while_loop for converting RngReadAndSkip cause there is no registered converter for this op.\n",
            "WARNING:tensorflow:Using a while_loop for converting Bitcast cause there is no registered converter for this op.\n",
            "WARNING:tensorflow:Using a while_loop for converting Bitcast cause there is no registered converter for this op.\n",
            "WARNING:tensorflow:Using a while_loop for converting StatelessRandomUniformV2 cause there is no registered converter for this op.\n",
            "WARNING:tensorflow:Using a while_loop for converting RngReadAndSkip cause there is no registered converter for this op.\n",
            "WARNING:tensorflow:Using a while_loop for converting Bitcast cause there is no registered converter for this op.\n",
            "WARNING:tensorflow:Using a while_loop for converting Bitcast cause there is no registered converter for this op.\n",
            "WARNING:tensorflow:Using a while_loop for converting StatelessRandomUniformV2 cause there is no registered converter for this op.\n",
            "WARNING:tensorflow:Using a while_loop for converting ImageProjectiveTransformV3 cause there is no registered converter for this op.\n"
          ]
        },
        {
          "output_type": "stream",
          "name": "stdout",
          "text": [
            "Found 29 files belonging to 2 classes.\n",
            "Using 5 files for validation.\n"
          ]
        }
      ],
      "source": [
        "def build_dataset(subset):\n",
        "  return tf.keras.preprocessing.image_dataset_from_directory(\n",
        "      data_dir,\n",
        "      validation_split=.40,\n",
        "      subset=subset,\n",
        "      label_mode=\"categorical\",\n",
        "      # Seed when splitting and randomly shuffling data so that the validation set is stable across runs\n",
        "      seed=123,\n",
        "      image_size=IMAGE_SIZE,\n",
        "      batch_size=1)\n",
        "  \n",
        "# build preprocessing model\n",
        "normalization_layer = tf.keras.layers.Rescaling(1. / 255)\n",
        "preprocessing_model = tf.keras.Sequential([normalization_layer])\n",
        "\n",
        "do_data_augmentation = True\n",
        "if do_data_augmentation:\n",
        "  preprocessing_model.add(\n",
        "      tf.keras.layers.RandomRotation(40))\n",
        "  preprocessing_model.add(\n",
        "      tf.keras.layers.RandomZoom(0.2, 0.2))#image sizes are fixed when reading, and then a random zoom is applied\n",
        "  preprocessing_model.add(\n",
        "      tf.keras.layers.RandomFlip(mode=\"horizontal\"))\n",
        "  \n",
        "#training dataset\n",
        "train_ds = build_dataset(\"training\")\n",
        "class_names = tuple(train_ds.class_names)\n",
        "train_size = train_ds.cardinality().numpy()\n",
        "train_ds = train_ds.unbatch().batch(BATCH_SIZE)\n",
        "train_ds = train_ds.repeat()\n",
        "train_ds = train_ds.map(lambda images, labels:\n",
        "                        (preprocessing_model(images), labels))\n",
        "\n",
        "#testing dataset\n",
        "val_ds = build_dataset(\"validation\")\n",
        "valid_size = val_ds.cardinality().numpy()\n",
        "val_ds = val_ds.unbatch().batch(BATCH_SIZE)\n",
        "val_ds = val_ds.map(lambda images, labels:\n",
        "                    (normalization_layer(images), labels))"
      ]
    },
    {
      "cell_type": "code",
      "source": [
        "valid_size"
      ],
      "metadata": {
        "colab": {
          "base_uri": "https://localhost:8080/"
        },
        "id": "wnBrEKOGnPv_",
        "outputId": "c5c4fa3f-99d7-4f79-95ee-d3d47eb74240"
      },
      "execution_count": null,
      "outputs": [
        {
          "output_type": "execute_result",
          "data": {
            "text/plain": [
              "5"
            ]
          },
          "metadata": {},
          "execution_count": 56
        }
      ]
    },
    {
      "cell_type": "code",
      "source": [
        "train_size"
      ],
      "metadata": {
        "colab": {
          "base_uri": "https://localhost:8080/"
        },
        "id": "fZtwB4WMoeKZ",
        "outputId": "0769811c-a11b-4a0d-f9b6-c0733e78b3c3"
      },
      "execution_count": null,
      "outputs": [
        {
          "output_type": "execute_result",
          "data": {
            "text/plain": [
              "24"
            ]
          },
          "metadata": {},
          "execution_count": 57
        }
      ]
    },
    {
      "cell_type": "markdown",
      "source": [
        "## Build the Model"
      ],
      "metadata": {
        "id": "LHfb01Q6kgxB"
      }
    },
    {
      "cell_type": "code",
      "source": [
        "print(\"Building model with\", model_handle)\n",
        "model = tf.keras.Sequential([\n",
        "    # loaded by the TFLiteConverter\n",
        "    tf.keras.layers.InputLayer(input_shape=IMAGE_SIZE + (3,)), # define input shape\n",
        "    hub.KerasLayer(model_handle, trainable=False),\n",
        "    tf.keras.layers.Dropout(rate=0.2),\n",
        "    tf.keras.layers.Dense(len(class_names),\n",
        "                          kernel_regularizer=tf.keras.regularizers.l2(0.0001))\n",
        "])\n",
        "model.build((None,)+IMAGE_SIZE+(3,))\n",
        "model.summary()"
      ],
      "metadata": {
        "colab": {
          "base_uri": "https://localhost:8080/"
        },
        "outputId": "62b1d5bf-9e89-4ae5-e322-0b4aad2dd6f7",
        "id": "-S7dUtO5kgxB"
      },
      "execution_count": null,
      "outputs": [
        {
          "output_type": "stream",
          "name": "stdout",
          "text": [
            "Building model with https://tfhub.dev/google/imagenet/inception_resnet_v2/feature_vector/5\n",
            "Model: \"sequential_3\"\n",
            "_________________________________________________________________\n",
            " Layer (type)                Output Shape              Param #   \n",
            "=================================================================\n",
            " keras_layer_1 (KerasLayer)  (None, 1536)              54336736  \n",
            "                                                                 \n",
            " dropout_1 (Dropout)         (None, 1536)              0         \n",
            "                                                                 \n",
            " dense_1 (Dense)             (None, 2)                 3074      \n",
            "                                                                 \n",
            "=================================================================\n",
            "Total params: 54,339,810\n",
            "Trainable params: 3,074\n",
            "Non-trainable params: 54,336,736\n",
            "_________________________________________________________________\n"
          ]
        }
      ]
    },
    {
      "cell_type": "markdown",
      "source": [
        "## Train the Model"
      ],
      "metadata": {
        "id": "NkJHctX-kgxB"
      }
    },
    {
      "cell_type": "code",
      "source": [
        "model.compile(\n",
        "  optimizer=tf.keras.optimizers.Adam(learning_rate=0.005), \n",
        "  loss=tf.keras.losses.BinaryCrossentropy(from_logits=True, label_smoothing=0.1),\n",
        "  metrics=['accuracy'])"
      ],
      "metadata": {
        "id": "ygz2c11DkgxB"
      },
      "execution_count": null,
      "outputs": []
    },
    {
      "cell_type": "code",
      "source": [
        "steps_per_epoch = train_size // BATCH_SIZE\n",
        "validation_steps = valid_size // BATCH_SIZE\n",
        "hist = model.fit(\n",
        "    train_ds,\n",
        "    epochs=10, steps_per_epoch=steps_per_epoch,\n",
        "    validation_data=val_ds).history"
      ],
      "metadata": {
        "id": "bDh3avmLkgxB",
        "colab": {
          "base_uri": "https://localhost:8080/"
        },
        "outputId": "8868704c-4e60-4675-b80a-7551feee7288"
      },
      "execution_count": null,
      "outputs": [
        {
          "output_type": "stream",
          "name": "stdout",
          "text": [
            "Epoch 1/10\n",
            "1/1 [==============================] - 2s 2s/step - loss: 0.6171 - accuracy: 0.6875 - val_loss: 0.6641 - val_accuracy: 0.8000\n",
            "Epoch 2/10\n",
            "1/1 [==============================] - 0s 455ms/step - loss: 0.3415 - accuracy: 1.0000 - val_loss: 0.6622 - val_accuracy: 0.8000\n",
            "Epoch 3/10\n",
            "1/1 [==============================] - 1s 1s/step - loss: 0.6164 - accuracy: 0.7500 - val_loss: 0.6620 - val_accuracy: 0.8000\n",
            "Epoch 4/10\n",
            "1/1 [==============================] - 1s 713ms/step - loss: 0.4862 - accuracy: 0.8750 - val_loss: 0.6626 - val_accuracy: 0.8000\n",
            "Epoch 5/10\n",
            "1/1 [==============================] - 1s 1s/step - loss: 0.6332 - accuracy: 0.6875 - val_loss: 0.6672 - val_accuracy: 0.8000\n",
            "Epoch 6/10\n",
            "1/1 [==============================] - 1s 594ms/step - loss: 0.3250 - accuracy: 0.8750 - val_loss: 0.6779 - val_accuracy: 0.8000\n",
            "Epoch 7/10\n",
            "1/1 [==============================] - 1s 984ms/step - loss: 0.6011 - accuracy: 0.6875 - val_loss: 0.7083 - val_accuracy: 0.8000\n",
            "Epoch 8/10\n",
            "1/1 [==============================] - 0s 488ms/step - loss: 0.3964 - accuracy: 0.8750 - val_loss: 0.7070 - val_accuracy: 0.8000\n",
            "Epoch 9/10\n",
            "1/1 [==============================] - 1s 707ms/step - loss: 0.5632 - accuracy: 0.7500 - val_loss: 0.7044 - val_accuracy: 0.8000\n",
            "Epoch 10/10\n",
            "1/1 [==============================] - 0s 365ms/step - loss: 0.5165 - accuracy: 0.8750 - val_loss: 0.6960 - val_accuracy: 0.8000\n"
          ]
        }
      ]
    },
    {
      "cell_type": "markdown",
      "source": [
        "## Evaluate the Model"
      ],
      "metadata": {
        "id": "gCqdlUcSUqER"
      }
    },
    {
      "cell_type": "code",
      "source": [
        "fig = plt.figure()\n",
        "fig.suptitle('Accuracy', fontsize=20)\n",
        "plt.ylabel(\"Loss (training and validation)\")\n",
        "plt.xlabel(\"Training Steps\")\n",
        "plt.ylim([0,2])\n",
        "plt.plot(hist[\"loss\"])\n",
        "plt.plot(hist[\"val_loss\"])\n",
        "plt.grid(color = 'green', linestyle = '--', linewidth = 0.5)\n",
        "\n",
        "fig = plt.figure()\n",
        "fig.suptitle('Loss', fontsize=20)\n",
        "plt.ylabel(\"Accuracy (training and validation)\")\n",
        "plt.xlabel(\"Training Steps\")\n",
        "plt.ylim([0,1])\n",
        "plt.plot(hist[\"accuracy\"])\n",
        "plt.plot(hist[\"val_accuracy\"])\n",
        "plt.grid(color = 'green', linestyle = '--', linewidth = 0.5)"
      ],
      "metadata": {
        "colab": {
          "base_uri": "https://localhost:8080/",
          "height": 599
        },
        "outputId": "805bbd87-eba6-4583-e0ad-a5b01ec10d0e",
        "id": "QH0__AhQkgxC"
      },
      "execution_count": null,
      "outputs": [
        {
          "output_type": "display_data",
          "data": {
            "text/plain": [
              "<Figure size 432x288 with 1 Axes>"
            ],
            "image/png": "[encoded data removed]"
          },
          "metadata": {
            "needs_background": "light"
          }
        },
        {
          "output_type": "display_data",
          "data": {
            "text/plain": [
              "<Figure size 432x288 with 1 Axes>"
            ],
            "image/png": "[encoded data removed]"
          },
          "metadata": {
            "needs_background": "light"
          }
        }
      ]
    }
  ]
}